{
 "cells": [
  {
   "cell_type": "code",
   "execution_count": 1,
   "id": "fcd93ece",
   "metadata": {},
   "outputs": [],
   "source": [
    "import pandas as pd\n",
    "import numpy as np\n",
    "from sklearn.tree import DecisionTreeClassifier\n",
    "from sklearn.model_selection import cross_validate"
   ]
  },
  {
   "cell_type": "code",
   "execution_count": 2,
   "id": "90775852",
   "metadata": {},
   "outputs": [],
   "source": [
    "data = pd.read_excel('Suicide Prevention Data.xlsx')"
   ]
  },
  {
   "cell_type": "code",
   "execution_count": 3,
   "id": "453a8098",
   "metadata": {},
   "outputs": [
    {
     "data": {
      "text/plain": [
       "(15093, 26)"
      ]
     },
     "execution_count": 3,
     "metadata": {},
     "output_type": "execute_result"
    }
   ],
   "source": [
    "data.shape"
   ]
  },
  {
   "cell_type": "code",
   "execution_count": 4,
   "id": "35408065",
   "metadata": {},
   "outputs": [],
   "source": [
    "data_2 = data.dropna(subset=['SuicideReferralFlagName'])"
   ]
  },
  {
   "cell_type": "code",
   "execution_count": 5,
   "id": "fdf976b5",
   "metadata": {},
   "outputs": [
    {
     "data": {
      "text/plain": [
       "(11441, 26)"
      ]
     },
     "execution_count": 5,
     "metadata": {},
     "output_type": "execute_result"
    }
   ],
   "source": [
    "data_2.shape"
   ]
  },
  {
   "cell_type": "code",
   "execution_count": 6,
   "id": "46b28a5c",
   "metadata": {},
   "outputs": [
    {
     "name": "stdout",
     "output_type": "stream",
     "text": [
      "CompletionStatus                     0.000000\n",
      "SuicideReferralFlagName              0.000000\n",
      "LevelOfCareD8Calculated_PHN         15.260904\n",
      "LevelOfCareAssessed_Prac            85.630627\n",
      "GenderName                           2.106459\n",
      "CountryOfBirthName                   3.338869\n",
      "ProficiencySpokenEnglishName         2.176383\n",
      "ATSIStatusName                      15.750371\n",
      "LabourForceName                     11.117909\n",
      "HomelessnessStatusName               2.989249\n",
      "MaritalStatusName                   10.462372\n",
      "PrincipalFocusName                   0.043702\n",
      "PrincipalDiagnosisName               2.167643\n",
      "AdditionalDiagnosisName              1.931649\n",
      "LGBTIStatus                         52.093348\n",
      "SexualityName                       99.790228\n",
      "ContinuityOfCareClient               3.994406\n",
      "PerinatalFlagName                   83.288174\n",
      "OutOfHomeCareName                   90.708854\n",
      "FamilyDomesticViolenceFlagName      84.546805\n",
      "ComorbidAlcoholDrugConditionName    81.435189\n",
      "Service Contact Count Range          0.349620\n",
      "Client age range                     0.358360\n",
      "Time in program open range          78.166244\n",
      "Time in program closed range        23.529412\n",
      "Total time in program                1.695656\n",
      "dtype: float64\n"
     ]
    }
   ],
   "source": [
    "nan_summary = (data_2.isna().sum()*100/len(data_2))\n",
    "print(nan_summary)"
   ]
  },
  {
   "cell_type": "code",
   "execution_count": 7,
   "id": "3682e21d",
   "metadata": {},
   "outputs": [],
   "source": [
    "#Convert object datatype (string) to categorical in numerical format\n",
    "\n",
    "def convertCategoricalData(dataframe):\n",
    "    for column in dataframe.columns:\n",
    "        if dataframe[column].dtype == \"object\":\n",
    "            dataframe[column] = dataframe[column].astype(\"category\").cat.codes\n",
    "    return dataframe"
   ]
  },
  {
   "cell_type": "code",
   "execution_count": 8,
   "id": "05120fa3",
   "metadata": {},
   "outputs": [
    {
     "name": "stderr",
     "output_type": "stream",
     "text": [
      "C:\\Users\\MiloJoronen\\AppData\\Local\\Temp\\ipykernel_14332\\3085832954.py:6: SettingWithCopyWarning: \n",
      "A value is trying to be set on a copy of a slice from a DataFrame.\n",
      "Try using .loc[row_indexer,col_indexer] = value instead\n",
      "\n",
      "See the caveats in the documentation: https://pandas.pydata.org/pandas-docs/stable/user_guide/indexing.html#returning-a-view-versus-a-copy\n",
      "  dataframe[column] = dataframe[column].astype(\"category\").cat.codes\n",
      "C:\\Users\\MiloJoronen\\AppData\\Local\\Temp\\ipykernel_14332\\3085832954.py:6: SettingWithCopyWarning: \n",
      "A value is trying to be set on a copy of a slice from a DataFrame.\n",
      "Try using .loc[row_indexer,col_indexer] = value instead\n",
      "\n",
      "See the caveats in the documentation: https://pandas.pydata.org/pandas-docs/stable/user_guide/indexing.html#returning-a-view-versus-a-copy\n",
      "  dataframe[column] = dataframe[column].astype(\"category\").cat.codes\n",
      "C:\\Users\\MiloJoronen\\AppData\\Local\\Temp\\ipykernel_14332\\3085832954.py:6: SettingWithCopyWarning: \n",
      "A value is trying to be set on a copy of a slice from a DataFrame.\n",
      "Try using .loc[row_indexer,col_indexer] = value instead\n",
      "\n",
      "See the caveats in the documentation: https://pandas.pydata.org/pandas-docs/stable/user_guide/indexing.html#returning-a-view-versus-a-copy\n",
      "  dataframe[column] = dataframe[column].astype(\"category\").cat.codes\n",
      "C:\\Users\\MiloJoronen\\AppData\\Local\\Temp\\ipykernel_14332\\3085832954.py:6: SettingWithCopyWarning: \n",
      "A value is trying to be set on a copy of a slice from a DataFrame.\n",
      "Try using .loc[row_indexer,col_indexer] = value instead\n",
      "\n",
      "See the caveats in the documentation: https://pandas.pydata.org/pandas-docs/stable/user_guide/indexing.html#returning-a-view-versus-a-copy\n",
      "  dataframe[column] = dataframe[column].astype(\"category\").cat.codes\n",
      "C:\\Users\\MiloJoronen\\AppData\\Local\\Temp\\ipykernel_14332\\3085832954.py:6: SettingWithCopyWarning: \n",
      "A value is trying to be set on a copy of a slice from a DataFrame.\n",
      "Try using .loc[row_indexer,col_indexer] = value instead\n",
      "\n",
      "See the caveats in the documentation: https://pandas.pydata.org/pandas-docs/stable/user_guide/indexing.html#returning-a-view-versus-a-copy\n",
      "  dataframe[column] = dataframe[column].astype(\"category\").cat.codes\n",
      "C:\\Users\\MiloJoronen\\AppData\\Local\\Temp\\ipykernel_14332\\3085832954.py:6: SettingWithCopyWarning: \n",
      "A value is trying to be set on a copy of a slice from a DataFrame.\n",
      "Try using .loc[row_indexer,col_indexer] = value instead\n",
      "\n",
      "See the caveats in the documentation: https://pandas.pydata.org/pandas-docs/stable/user_guide/indexing.html#returning-a-view-versus-a-copy\n",
      "  dataframe[column] = dataframe[column].astype(\"category\").cat.codes\n",
      "C:\\Users\\MiloJoronen\\AppData\\Local\\Temp\\ipykernel_14332\\3085832954.py:6: SettingWithCopyWarning: \n",
      "A value is trying to be set on a copy of a slice from a DataFrame.\n",
      "Try using .loc[row_indexer,col_indexer] = value instead\n",
      "\n",
      "See the caveats in the documentation: https://pandas.pydata.org/pandas-docs/stable/user_guide/indexing.html#returning-a-view-versus-a-copy\n",
      "  dataframe[column] = dataframe[column].astype(\"category\").cat.codes\n",
      "C:\\Users\\MiloJoronen\\AppData\\Local\\Temp\\ipykernel_14332\\3085832954.py:6: SettingWithCopyWarning: \n",
      "A value is trying to be set on a copy of a slice from a DataFrame.\n",
      "Try using .loc[row_indexer,col_indexer] = value instead\n",
      "\n",
      "See the caveats in the documentation: https://pandas.pydata.org/pandas-docs/stable/user_guide/indexing.html#returning-a-view-versus-a-copy\n",
      "  dataframe[column] = dataframe[column].astype(\"category\").cat.codes\n",
      "C:\\Users\\MiloJoronen\\AppData\\Local\\Temp\\ipykernel_14332\\3085832954.py:6: SettingWithCopyWarning: \n",
      "A value is trying to be set on a copy of a slice from a DataFrame.\n",
      "Try using .loc[row_indexer,col_indexer] = value instead\n",
      "\n",
      "See the caveats in the documentation: https://pandas.pydata.org/pandas-docs/stable/user_guide/indexing.html#returning-a-view-versus-a-copy\n",
      "  dataframe[column] = dataframe[column].astype(\"category\").cat.codes\n",
      "C:\\Users\\MiloJoronen\\AppData\\Local\\Temp\\ipykernel_14332\\3085832954.py:6: SettingWithCopyWarning: \n",
      "A value is trying to be set on a copy of a slice from a DataFrame.\n",
      "Try using .loc[row_indexer,col_indexer] = value instead\n",
      "\n",
      "See the caveats in the documentation: https://pandas.pydata.org/pandas-docs/stable/user_guide/indexing.html#returning-a-view-versus-a-copy\n",
      "  dataframe[column] = dataframe[column].astype(\"category\").cat.codes\n",
      "C:\\Users\\MiloJoronen\\AppData\\Local\\Temp\\ipykernel_14332\\3085832954.py:6: SettingWithCopyWarning: \n",
      "A value is trying to be set on a copy of a slice from a DataFrame.\n",
      "Try using .loc[row_indexer,col_indexer] = value instead\n",
      "\n",
      "See the caveats in the documentation: https://pandas.pydata.org/pandas-docs/stable/user_guide/indexing.html#returning-a-view-versus-a-copy\n",
      "  dataframe[column] = dataframe[column].astype(\"category\").cat.codes\n",
      "C:\\Users\\MiloJoronen\\AppData\\Local\\Temp\\ipykernel_14332\\3085832954.py:6: SettingWithCopyWarning: \n",
      "A value is trying to be set on a copy of a slice from a DataFrame.\n",
      "Try using .loc[row_indexer,col_indexer] = value instead\n",
      "\n",
      "See the caveats in the documentation: https://pandas.pydata.org/pandas-docs/stable/user_guide/indexing.html#returning-a-view-versus-a-copy\n",
      "  dataframe[column] = dataframe[column].astype(\"category\").cat.codes\n",
      "C:\\Users\\MiloJoronen\\AppData\\Local\\Temp\\ipykernel_14332\\3085832954.py:6: SettingWithCopyWarning: \n",
      "A value is trying to be set on a copy of a slice from a DataFrame.\n",
      "Try using .loc[row_indexer,col_indexer] = value instead\n",
      "\n",
      "See the caveats in the documentation: https://pandas.pydata.org/pandas-docs/stable/user_guide/indexing.html#returning-a-view-versus-a-copy\n",
      "  dataframe[column] = dataframe[column].astype(\"category\").cat.codes\n",
      "C:\\Users\\MiloJoronen\\AppData\\Local\\Temp\\ipykernel_14332\\3085832954.py:6: SettingWithCopyWarning: \n",
      "A value is trying to be set on a copy of a slice from a DataFrame.\n",
      "Try using .loc[row_indexer,col_indexer] = value instead\n",
      "\n",
      "See the caveats in the documentation: https://pandas.pydata.org/pandas-docs/stable/user_guide/indexing.html#returning-a-view-versus-a-copy\n",
      "  dataframe[column] = dataframe[column].astype(\"category\").cat.codes\n",
      "C:\\Users\\MiloJoronen\\AppData\\Local\\Temp\\ipykernel_14332\\3085832954.py:6: SettingWithCopyWarning: \n",
      "A value is trying to be set on a copy of a slice from a DataFrame.\n",
      "Try using .loc[row_indexer,col_indexer] = value instead\n",
      "\n",
      "See the caveats in the documentation: https://pandas.pydata.org/pandas-docs/stable/user_guide/indexing.html#returning-a-view-versus-a-copy\n",
      "  dataframe[column] = dataframe[column].astype(\"category\").cat.codes\n",
      "C:\\Users\\MiloJoronen\\AppData\\Local\\Temp\\ipykernel_14332\\3085832954.py:6: SettingWithCopyWarning: \n",
      "A value is trying to be set on a copy of a slice from a DataFrame.\n",
      "Try using .loc[row_indexer,col_indexer] = value instead\n",
      "\n",
      "See the caveats in the documentation: https://pandas.pydata.org/pandas-docs/stable/user_guide/indexing.html#returning-a-view-versus-a-copy\n",
      "  dataframe[column] = dataframe[column].astype(\"category\").cat.codes\n",
      "C:\\Users\\MiloJoronen\\AppData\\Local\\Temp\\ipykernel_14332\\3085832954.py:6: SettingWithCopyWarning: \n",
      "A value is trying to be set on a copy of a slice from a DataFrame.\n",
      "Try using .loc[row_indexer,col_indexer] = value instead\n",
      "\n",
      "See the caveats in the documentation: https://pandas.pydata.org/pandas-docs/stable/user_guide/indexing.html#returning-a-view-versus-a-copy\n",
      "  dataframe[column] = dataframe[column].astype(\"category\").cat.codes\n",
      "C:\\Users\\MiloJoronen\\AppData\\Local\\Temp\\ipykernel_14332\\3085832954.py:6: SettingWithCopyWarning: \n",
      "A value is trying to be set on a copy of a slice from a DataFrame.\n",
      "Try using .loc[row_indexer,col_indexer] = value instead\n",
      "\n",
      "See the caveats in the documentation: https://pandas.pydata.org/pandas-docs/stable/user_guide/indexing.html#returning-a-view-versus-a-copy\n",
      "  dataframe[column] = dataframe[column].astype(\"category\").cat.codes\n",
      "C:\\Users\\MiloJoronen\\AppData\\Local\\Temp\\ipykernel_14332\\3085832954.py:6: SettingWithCopyWarning: \n",
      "A value is trying to be set on a copy of a slice from a DataFrame.\n",
      "Try using .loc[row_indexer,col_indexer] = value instead\n",
      "\n",
      "See the caveats in the documentation: https://pandas.pydata.org/pandas-docs/stable/user_guide/indexing.html#returning-a-view-versus-a-copy\n",
      "  dataframe[column] = dataframe[column].astype(\"category\").cat.codes\n",
      "C:\\Users\\MiloJoronen\\AppData\\Local\\Temp\\ipykernel_14332\\3085832954.py:6: SettingWithCopyWarning: \n",
      "A value is trying to be set on a copy of a slice from a DataFrame.\n",
      "Try using .loc[row_indexer,col_indexer] = value instead\n",
      "\n",
      "See the caveats in the documentation: https://pandas.pydata.org/pandas-docs/stable/user_guide/indexing.html#returning-a-view-versus-a-copy\n",
      "  dataframe[column] = dataframe[column].astype(\"category\").cat.codes\n",
      "C:\\Users\\MiloJoronen\\AppData\\Local\\Temp\\ipykernel_14332\\3085832954.py:6: SettingWithCopyWarning: \n",
      "A value is trying to be set on a copy of a slice from a DataFrame.\n",
      "Try using .loc[row_indexer,col_indexer] = value instead\n",
      "\n",
      "See the caveats in the documentation: https://pandas.pydata.org/pandas-docs/stable/user_guide/indexing.html#returning-a-view-versus-a-copy\n",
      "  dataframe[column] = dataframe[column].astype(\"category\").cat.codes\n",
      "C:\\Users\\MiloJoronen\\AppData\\Local\\Temp\\ipykernel_14332\\3085832954.py:6: SettingWithCopyWarning: \n",
      "A value is trying to be set on a copy of a slice from a DataFrame.\n",
      "Try using .loc[row_indexer,col_indexer] = value instead\n",
      "\n",
      "See the caveats in the documentation: https://pandas.pydata.org/pandas-docs/stable/user_guide/indexing.html#returning-a-view-versus-a-copy\n",
      "  dataframe[column] = dataframe[column].astype(\"category\").cat.codes\n",
      "C:\\Users\\MiloJoronen\\AppData\\Local\\Temp\\ipykernel_14332\\3085832954.py:6: SettingWithCopyWarning: \n",
      "A value is trying to be set on a copy of a slice from a DataFrame.\n",
      "Try using .loc[row_indexer,col_indexer] = value instead\n",
      "\n",
      "See the caveats in the documentation: https://pandas.pydata.org/pandas-docs/stable/user_guide/indexing.html#returning-a-view-versus-a-copy\n",
      "  dataframe[column] = dataframe[column].astype(\"category\").cat.codes\n",
      "C:\\Users\\MiloJoronen\\AppData\\Local\\Temp\\ipykernel_14332\\3085832954.py:6: SettingWithCopyWarning: \n",
      "A value is trying to be set on a copy of a slice from a DataFrame.\n",
      "Try using .loc[row_indexer,col_indexer] = value instead\n",
      "\n",
      "See the caveats in the documentation: https://pandas.pydata.org/pandas-docs/stable/user_guide/indexing.html#returning-a-view-versus-a-copy\n",
      "  dataframe[column] = dataframe[column].astype(\"category\").cat.codes\n",
      "C:\\Users\\MiloJoronen\\AppData\\Local\\Temp\\ipykernel_14332\\3085832954.py:6: SettingWithCopyWarning: \n",
      "A value is trying to be set on a copy of a slice from a DataFrame.\n",
      "Try using .loc[row_indexer,col_indexer] = value instead\n",
      "\n",
      "See the caveats in the documentation: https://pandas.pydata.org/pandas-docs/stable/user_guide/indexing.html#returning-a-view-versus-a-copy\n",
      "  dataframe[column] = dataframe[column].astype(\"category\").cat.codes\n",
      "C:\\Users\\MiloJoronen\\AppData\\Local\\Temp\\ipykernel_14332\\3085832954.py:6: SettingWithCopyWarning: \n",
      "A value is trying to be set on a copy of a slice from a DataFrame.\n",
      "Try using .loc[row_indexer,col_indexer] = value instead\n",
      "\n",
      "See the caveats in the documentation: https://pandas.pydata.org/pandas-docs/stable/user_guide/indexing.html#returning-a-view-versus-a-copy\n",
      "  dataframe[column] = dataframe[column].astype(\"category\").cat.codes\n"
     ]
    }
   ],
   "source": [
    "data_3 = convertCategoricalData(data_2)"
   ]
  },
  {
   "cell_type": "code",
   "execution_count": 9,
   "id": "d94966b2",
   "metadata": {},
   "outputs": [],
   "source": [
    "features = data_3.drop(\"SuicideReferralFlagName\", axis = 1)\n",
    "classLabels = data_3[\"SuicideReferralFlagName\"]"
   ]
  },
  {
   "cell_type": "code",
   "execution_count": 10,
   "id": "31d7ab30",
   "metadata": {},
   "outputs": [],
   "source": [
    "#Getting random sample from the dataset? shuffle data in any order\n",
    "#random_state = 0 to make sure the shuffled data is the same the next time the code is ran -> reproducable\n",
    "features = features.sample(frac = 1, random_state=0)\n",
    "classLabels = classLabels.sample(frac = 1, random_state=0)"
   ]
  },
  {
   "cell_type": "code",
   "execution_count": 11,
   "id": "194acfa3",
   "metadata": {},
   "outputs": [],
   "source": [
    "#verify the indices\n",
    "assert all(features.index == classLabels.index)\n",
    "x=round(0.8*len(data_3)) #Make a variable that is 80% of dataset\n",
    "trainFeatures, trainClassLabels = features.iloc[:x], classLabels.iloc[:x]\n",
    "testFeatures, testClassLabels = features.iloc[x:len(data)], classLabels.iloc[x:len(data)]"
   ]
  },
  {
   "cell_type": "code",
   "execution_count": 12,
   "id": "1ef9f51d",
   "metadata": {},
   "outputs": [
    {
     "data": {
      "text/plain": [
       "3790     0\n",
       "10266    0\n",
       "5119     0\n",
       "3588     0\n",
       "5340     0\n",
       "Name: SuicideReferralFlagName, dtype: int8"
      ]
     },
     "execution_count": 12,
     "metadata": {},
     "output_type": "execute_result"
    }
   ],
   "source": [
    "classLabels.head()"
   ]
  },
  {
   "cell_type": "code",
   "execution_count": 13,
   "id": "d1a48efb",
   "metadata": {},
   "outputs": [
    {
     "name": "stdout",
     "output_type": "stream",
     "text": [
      "(9153, 25)\n",
      "(2288, 25)\n"
     ]
    }
   ],
   "source": [
    "print(trainFeatures.shape)\n",
    "print(testFeatures.shape)"
   ]
  },
  {
   "cell_type": "code",
   "execution_count": 14,
   "id": "369f74a5",
   "metadata": {},
   "outputs": [],
   "source": [
    "treeLearner = DecisionTreeClassifier(random_state=0)\n",
    "\n",
    "#Train the model\n",
    "classifier = treeLearner.fit(trainFeatures, trainClassLabels)\n",
    "\n",
    "#Use the model to predict on test set\n",
    "predictions = classifier.predict(testFeatures)"
   ]
  },
  {
   "cell_type": "code",
   "execution_count": 15,
   "id": "84b3d66a",
   "metadata": {},
   "outputs": [
    {
     "data": {
      "text/plain": [
       "array([0, 1, 1, ..., 0, 0, 0], dtype=int8)"
      ]
     },
     "execution_count": 15,
     "metadata": {},
     "output_type": "execute_result"
    }
   ],
   "source": [
    "predictions"
   ]
  },
  {
   "cell_type": "code",
   "execution_count": 16,
   "id": "c9aa5dd3",
   "metadata": {},
   "outputs": [
    {
     "name": "stdout",
     "output_type": "stream",
     "text": [
      "0: 1974\n",
      "1: 314\n"
     ]
    }
   ],
   "source": [
    "from collections import Counter\n",
    "# Use Counter to count occurrences of each category\n",
    "predictions_counts = Counter(predictions)\n",
    "\n",
    "# Print the summary\n",
    "for category, count in predictions_counts.items():\n",
    "    print(f\"{category}: {count}\")"
   ]
  },
  {
   "cell_type": "markdown",
   "id": "513de248",
   "metadata": {},
   "source": [
    "# Accuracy"
   ]
  },
  {
   "cell_type": "code",
   "execution_count": 17,
   "id": "2315d86b",
   "metadata": {},
   "outputs": [],
   "source": [
    "def computeAccuracy (target, predicted):\n",
    "    accuracy = (predictions == target).sum()/len(target)\n",
    "    return accuracy"
   ]
  },
  {
   "cell_type": "code",
   "execution_count": 18,
   "id": "50cb7164",
   "metadata": {},
   "outputs": [
    {
     "name": "stdout",
     "output_type": "stream",
     "text": [
      "Accuracy of the model=  0.8557692307692307\n"
     ]
    }
   ],
   "source": [
    "accuracy = computeAccuracy (testClassLabels, predictions)\n",
    "print(\"Accuracy of the model= \", accuracy)"
   ]
  },
  {
   "cell_type": "code",
   "execution_count": 19,
   "id": "101fa98a",
   "metadata": {},
   "outputs": [
    {
     "data": {
      "text/plain": [
       "'decision_tree.pdf'"
      ]
     },
     "execution_count": 19,
     "metadata": {},
     "output_type": "execute_result"
    }
   ],
   "source": [
    "from sklearn.tree import export_graphviz\n",
    "import graphviz\n",
    "\n",
    "#Convert class labels to a list of strings\n",
    "class_labels = trainClassLabels.astype(str).unique().tolist()\n",
    "\n",
    "#Export the decision tree in DOT format\n",
    "dot_data = export_graphviz (treeLearner, out_file=None,\n",
    "                           feature_names=trainFeatures.columns,\n",
    "                            class_names=class_labels,\n",
    "                            filled=True, rounded=True,\n",
    "                            special_characters=True)\n",
    "\n",
    "graph= graphviz.Source(dot_data)\n",
    "graph.render(\"decision_tree\") # Save the tree as a PDF file\n",
    "graph.view() # Display the tree in a GUI window"
   ]
  },
  {
   "cell_type": "markdown",
   "id": "749453ca",
   "metadata": {},
   "source": [
    "# Evaluate with cross-validation"
   ]
  },
  {
   "cell_type": "code",
   "execution_count": 20,
   "id": "cc9e9c1e",
   "metadata": {},
   "outputs": [],
   "source": [
    "from sklearn.model_selection import cross_validate, cross_val_score, KFold"
   ]
  },
  {
   "cell_type": "code",
   "execution_count": 21,
   "id": "dcaf7cf8",
   "metadata": {},
   "outputs": [],
   "source": [
    "evalResults = cross_validate(treeLearner,X=features,y=classLabels,cv=10,scoring=[\"accuracy\"])"
   ]
  },
  {
   "cell_type": "code",
   "execution_count": 22,
   "id": "98a2494f",
   "metadata": {},
   "outputs": [
    {
     "name": "stdout",
     "output_type": "stream",
     "text": [
      "{'fit_time': array([0.07654047, 0.08467817, 0.0827949 , 0.07182217, 0.07162046,\n",
      "       0.07339191, 0.07299924, 0.06907439, 0.0665853 , 0.06742048]), 'score_time': array([0.00392175, 0.00411963, 0.00863743, 0.00352287, 0.00273323,\n",
      "       0.00595188, 0.00311017, 0.00349307, 0.00373769, 0.0030148 ]), 'test_accuracy': array([0.88034934, 0.86188811, 0.84178322, 0.86800699, 0.85926573,\n",
      "       0.86451049, 0.85664336, 0.86800699, 0.86625874, 0.84440559])}\n"
     ]
    }
   ],
   "source": [
    "print(evalResults)"
   ]
  },
  {
   "cell_type": "code",
   "execution_count": 23,
   "id": "ad8d2f0c",
   "metadata": {},
   "outputs": [
    {
     "name": "stdout",
     "output_type": "stream",
     "text": [
      "Accuracy for the fold no. 0 on the test set: 0.8707423580786027\n",
      "Accuracy for the fold no. 1 on the test set: 0.8784965034965035\n",
      "Accuracy for the fold no. 2 on the test set: 0.847027972027972\n",
      "Accuracy for the fold no. 3 on the test set: 0.8758741258741258\n",
      "Accuracy for the fold no. 4 on the test set: 0.8548951048951049\n",
      "Accuracy for the fold no. 5 on the test set: 0.8697552447552448\n",
      "Accuracy for the fold no. 6 on the test set: 0.8636363636363636\n",
      "Accuracy for the fold no. 7 on the test set: 0.8557692307692307\n",
      "Accuracy for the fold no. 8 on the test set: 0.8618881118881119\n",
      "Accuracy for the fold no. 9 on the test set: 0.8452797202797203\n"
     ]
    }
   ],
   "source": [
    "cv = KFold(n_splits=10)\n",
    "# cross_validate also allows to specify metrics which you want to see\n",
    "for i, score in enumerate(cross_validate(treeLearner, X=features,y=classLabels, cv=cv)[\"test_score\"]):\n",
    "    print(f\"Accuracy for the fold no. {i} on the test set: {score}\")"
   ]
  },
  {
   "cell_type": "markdown",
   "id": "4dab6d30",
   "metadata": {},
   "source": [
    "# Use Prediction Model on missing suicidal flags data"
   ]
  },
  {
   "cell_type": "code",
   "execution_count": 24,
   "id": "76b49087",
   "metadata": {},
   "outputs": [],
   "source": [
    "data_na_ori = data.loc[data['SuicideReferralFlagName'].isna()]"
   ]
  },
  {
   "cell_type": "code",
   "execution_count": 25,
   "id": "0059e863",
   "metadata": {},
   "outputs": [
    {
     "data": {
      "text/plain": [
       "(3652, 26)"
      ]
     },
     "execution_count": 25,
     "metadata": {},
     "output_type": "execute_result"
    }
   ],
   "source": [
    "data_na_ori.shape"
   ]
  },
  {
   "cell_type": "code",
   "execution_count": 26,
   "id": "4a4e1959",
   "metadata": {},
   "outputs": [
    {
     "name": "stdout",
     "output_type": "stream",
     "text": [
      "CompletionStatus                     23.986857\n",
      "SuicideReferralFlagName             100.000000\n",
      "LevelOfCareD8Calculated_PHN          23.986857\n",
      "LevelOfCareAssessed_Prac             82.694414\n",
      "GenderName                            2.026287\n",
      "CountryOfBirthName                    3.751369\n",
      "ProficiencySpokenEnglishName          1.506024\n",
      "ATSIStatusName                       14.841183\n",
      "LabourForceName                      93.838992\n",
      "HomelessnessStatusName               40.279299\n",
      "MaritalStatusName                    93.373494\n",
      "PrincipalFocusName                   90.005476\n",
      "PrincipalDiagnosisName               54.819277\n",
      "AdditionalDiagnosisName              69.660460\n",
      "LGBTIStatus                          54.846659\n",
      "SexualityName                        99.863089\n",
      "ContinuityOfCareClient               94.058050\n",
      "PerinatalFlagName                    97.727273\n",
      "OutOfHomeCareName                    99.041621\n",
      "FamilyDomesticViolenceFlagName       98.795181\n",
      "ComorbidAlcoholDrugConditionName     97.864184\n",
      "Service Contact Count Range          70.591457\n",
      "Client age range                      0.000000\n",
      "Time in program open range           91.429354\n",
      "Time in program closed range         14.074480\n",
      "Total time in program                 5.503834\n",
      "dtype: float64\n"
     ]
    }
   ],
   "source": [
    "nan_summary_na = (data_na_ori.isna().sum()*100/len(data_na_ori))\n",
    "print(nan_summary_na)"
   ]
  },
  {
   "cell_type": "code",
   "execution_count": 27,
   "id": "76753580",
   "metadata": {},
   "outputs": [
    {
     "name": "stderr",
     "output_type": "stream",
     "text": [
      "C:\\Users\\MiloJoronen\\AppData\\Local\\Temp\\ipykernel_14332\\3085832954.py:6: SettingWithCopyWarning: \n",
      "A value is trying to be set on a copy of a slice from a DataFrame.\n",
      "Try using .loc[row_indexer,col_indexer] = value instead\n",
      "\n",
      "See the caveats in the documentation: https://pandas.pydata.org/pandas-docs/stable/user_guide/indexing.html#returning-a-view-versus-a-copy\n",
      "  dataframe[column] = dataframe[column].astype(\"category\").cat.codes\n",
      "C:\\Users\\MiloJoronen\\AppData\\Local\\Temp\\ipykernel_14332\\3085832954.py:6: SettingWithCopyWarning: \n",
      "A value is trying to be set on a copy of a slice from a DataFrame.\n",
      "Try using .loc[row_indexer,col_indexer] = value instead\n",
      "\n",
      "See the caveats in the documentation: https://pandas.pydata.org/pandas-docs/stable/user_guide/indexing.html#returning-a-view-versus-a-copy\n",
      "  dataframe[column] = dataframe[column].astype(\"category\").cat.codes\n",
      "C:\\Users\\MiloJoronen\\AppData\\Local\\Temp\\ipykernel_14332\\3085832954.py:6: SettingWithCopyWarning: \n",
      "A value is trying to be set on a copy of a slice from a DataFrame.\n",
      "Try using .loc[row_indexer,col_indexer] = value instead\n",
      "\n",
      "See the caveats in the documentation: https://pandas.pydata.org/pandas-docs/stable/user_guide/indexing.html#returning-a-view-versus-a-copy\n",
      "  dataframe[column] = dataframe[column].astype(\"category\").cat.codes\n",
      "C:\\Users\\MiloJoronen\\AppData\\Local\\Temp\\ipykernel_14332\\3085832954.py:6: SettingWithCopyWarning: \n",
      "A value is trying to be set on a copy of a slice from a DataFrame.\n",
      "Try using .loc[row_indexer,col_indexer] = value instead\n",
      "\n",
      "See the caveats in the documentation: https://pandas.pydata.org/pandas-docs/stable/user_guide/indexing.html#returning-a-view-versus-a-copy\n",
      "  dataframe[column] = dataframe[column].astype(\"category\").cat.codes\n",
      "C:\\Users\\MiloJoronen\\AppData\\Local\\Temp\\ipykernel_14332\\3085832954.py:6: SettingWithCopyWarning: \n",
      "A value is trying to be set on a copy of a slice from a DataFrame.\n",
      "Try using .loc[row_indexer,col_indexer] = value instead\n",
      "\n",
      "See the caveats in the documentation: https://pandas.pydata.org/pandas-docs/stable/user_guide/indexing.html#returning-a-view-versus-a-copy\n",
      "  dataframe[column] = dataframe[column].astype(\"category\").cat.codes\n",
      "C:\\Users\\MiloJoronen\\AppData\\Local\\Temp\\ipykernel_14332\\3085832954.py:6: SettingWithCopyWarning: \n",
      "A value is trying to be set on a copy of a slice from a DataFrame.\n",
      "Try using .loc[row_indexer,col_indexer] = value instead\n",
      "\n",
      "See the caveats in the documentation: https://pandas.pydata.org/pandas-docs/stable/user_guide/indexing.html#returning-a-view-versus-a-copy\n",
      "  dataframe[column] = dataframe[column].astype(\"category\").cat.codes\n",
      "C:\\Users\\MiloJoronen\\AppData\\Local\\Temp\\ipykernel_14332\\3085832954.py:6: SettingWithCopyWarning: \n",
      "A value is trying to be set on a copy of a slice from a DataFrame.\n",
      "Try using .loc[row_indexer,col_indexer] = value instead\n",
      "\n",
      "See the caveats in the documentation: https://pandas.pydata.org/pandas-docs/stable/user_guide/indexing.html#returning-a-view-versus-a-copy\n",
      "  dataframe[column] = dataframe[column].astype(\"category\").cat.codes\n",
      "C:\\Users\\MiloJoronen\\AppData\\Local\\Temp\\ipykernel_14332\\3085832954.py:6: SettingWithCopyWarning: \n",
      "A value is trying to be set on a copy of a slice from a DataFrame.\n",
      "Try using .loc[row_indexer,col_indexer] = value instead\n",
      "\n",
      "See the caveats in the documentation: https://pandas.pydata.org/pandas-docs/stable/user_guide/indexing.html#returning-a-view-versus-a-copy\n",
      "  dataframe[column] = dataframe[column].astype(\"category\").cat.codes\n",
      "C:\\Users\\MiloJoronen\\AppData\\Local\\Temp\\ipykernel_14332\\3085832954.py:6: SettingWithCopyWarning: \n",
      "A value is trying to be set on a copy of a slice from a DataFrame.\n",
      "Try using .loc[row_indexer,col_indexer] = value instead\n",
      "\n",
      "See the caveats in the documentation: https://pandas.pydata.org/pandas-docs/stable/user_guide/indexing.html#returning-a-view-versus-a-copy\n",
      "  dataframe[column] = dataframe[column].astype(\"category\").cat.codes\n",
      "C:\\Users\\MiloJoronen\\AppData\\Local\\Temp\\ipykernel_14332\\3085832954.py:6: SettingWithCopyWarning: \n",
      "A value is trying to be set on a copy of a slice from a DataFrame.\n",
      "Try using .loc[row_indexer,col_indexer] = value instead\n",
      "\n",
      "See the caveats in the documentation: https://pandas.pydata.org/pandas-docs/stable/user_guide/indexing.html#returning-a-view-versus-a-copy\n",
      "  dataframe[column] = dataframe[column].astype(\"category\").cat.codes\n",
      "C:\\Users\\MiloJoronen\\AppData\\Local\\Temp\\ipykernel_14332\\3085832954.py:6: SettingWithCopyWarning: \n",
      "A value is trying to be set on a copy of a slice from a DataFrame.\n",
      "Try using .loc[row_indexer,col_indexer] = value instead\n",
      "\n",
      "See the caveats in the documentation: https://pandas.pydata.org/pandas-docs/stable/user_guide/indexing.html#returning-a-view-versus-a-copy\n",
      "  dataframe[column] = dataframe[column].astype(\"category\").cat.codes\n",
      "C:\\Users\\MiloJoronen\\AppData\\Local\\Temp\\ipykernel_14332\\3085832954.py:6: SettingWithCopyWarning: \n",
      "A value is trying to be set on a copy of a slice from a DataFrame.\n",
      "Try using .loc[row_indexer,col_indexer] = value instead\n",
      "\n",
      "See the caveats in the documentation: https://pandas.pydata.org/pandas-docs/stable/user_guide/indexing.html#returning-a-view-versus-a-copy\n",
      "  dataframe[column] = dataframe[column].astype(\"category\").cat.codes\n",
      "C:\\Users\\MiloJoronen\\AppData\\Local\\Temp\\ipykernel_14332\\3085832954.py:6: SettingWithCopyWarning: \n",
      "A value is trying to be set on a copy of a slice from a DataFrame.\n",
      "Try using .loc[row_indexer,col_indexer] = value instead\n",
      "\n",
      "See the caveats in the documentation: https://pandas.pydata.org/pandas-docs/stable/user_guide/indexing.html#returning-a-view-versus-a-copy\n",
      "  dataframe[column] = dataframe[column].astype(\"category\").cat.codes\n",
      "C:\\Users\\MiloJoronen\\AppData\\Local\\Temp\\ipykernel_14332\\3085832954.py:6: SettingWithCopyWarning: \n",
      "A value is trying to be set on a copy of a slice from a DataFrame.\n",
      "Try using .loc[row_indexer,col_indexer] = value instead\n",
      "\n",
      "See the caveats in the documentation: https://pandas.pydata.org/pandas-docs/stable/user_guide/indexing.html#returning-a-view-versus-a-copy\n",
      "  dataframe[column] = dataframe[column].astype(\"category\").cat.codes\n",
      "C:\\Users\\MiloJoronen\\AppData\\Local\\Temp\\ipykernel_14332\\3085832954.py:6: SettingWithCopyWarning: \n",
      "A value is trying to be set on a copy of a slice from a DataFrame.\n",
      "Try using .loc[row_indexer,col_indexer] = value instead\n",
      "\n",
      "See the caveats in the documentation: https://pandas.pydata.org/pandas-docs/stable/user_guide/indexing.html#returning-a-view-versus-a-copy\n",
      "  dataframe[column] = dataframe[column].astype(\"category\").cat.codes\n",
      "C:\\Users\\MiloJoronen\\AppData\\Local\\Temp\\ipykernel_14332\\3085832954.py:6: SettingWithCopyWarning: \n",
      "A value is trying to be set on a copy of a slice from a DataFrame.\n",
      "Try using .loc[row_indexer,col_indexer] = value instead\n",
      "\n",
      "See the caveats in the documentation: https://pandas.pydata.org/pandas-docs/stable/user_guide/indexing.html#returning-a-view-versus-a-copy\n",
      "  dataframe[column] = dataframe[column].astype(\"category\").cat.codes\n",
      "C:\\Users\\MiloJoronen\\AppData\\Local\\Temp\\ipykernel_14332\\3085832954.py:6: SettingWithCopyWarning: \n",
      "A value is trying to be set on a copy of a slice from a DataFrame.\n",
      "Try using .loc[row_indexer,col_indexer] = value instead\n",
      "\n",
      "See the caveats in the documentation: https://pandas.pydata.org/pandas-docs/stable/user_guide/indexing.html#returning-a-view-versus-a-copy\n",
      "  dataframe[column] = dataframe[column].astype(\"category\").cat.codes\n",
      "C:\\Users\\MiloJoronen\\AppData\\Local\\Temp\\ipykernel_14332\\3085832954.py:6: SettingWithCopyWarning: \n",
      "A value is trying to be set on a copy of a slice from a DataFrame.\n",
      "Try using .loc[row_indexer,col_indexer] = value instead\n",
      "\n",
      "See the caveats in the documentation: https://pandas.pydata.org/pandas-docs/stable/user_guide/indexing.html#returning-a-view-versus-a-copy\n",
      "  dataframe[column] = dataframe[column].astype(\"category\").cat.codes\n",
      "C:\\Users\\MiloJoronen\\AppData\\Local\\Temp\\ipykernel_14332\\3085832954.py:6: SettingWithCopyWarning: \n",
      "A value is trying to be set on a copy of a slice from a DataFrame.\n",
      "Try using .loc[row_indexer,col_indexer] = value instead\n",
      "\n",
      "See the caveats in the documentation: https://pandas.pydata.org/pandas-docs/stable/user_guide/indexing.html#returning-a-view-versus-a-copy\n",
      "  dataframe[column] = dataframe[column].astype(\"category\").cat.codes\n",
      "C:\\Users\\MiloJoronen\\AppData\\Local\\Temp\\ipykernel_14332\\3085832954.py:6: SettingWithCopyWarning: \n",
      "A value is trying to be set on a copy of a slice from a DataFrame.\n",
      "Try using .loc[row_indexer,col_indexer] = value instead\n",
      "\n",
      "See the caveats in the documentation: https://pandas.pydata.org/pandas-docs/stable/user_guide/indexing.html#returning-a-view-versus-a-copy\n",
      "  dataframe[column] = dataframe[column].astype(\"category\").cat.codes\n",
      "C:\\Users\\MiloJoronen\\AppData\\Local\\Temp\\ipykernel_14332\\3085832954.py:6: SettingWithCopyWarning: \n",
      "A value is trying to be set on a copy of a slice from a DataFrame.\n",
      "Try using .loc[row_indexer,col_indexer] = value instead\n",
      "\n",
      "See the caveats in the documentation: https://pandas.pydata.org/pandas-docs/stable/user_guide/indexing.html#returning-a-view-versus-a-copy\n",
      "  dataframe[column] = dataframe[column].astype(\"category\").cat.codes\n",
      "C:\\Users\\MiloJoronen\\AppData\\Local\\Temp\\ipykernel_14332\\3085832954.py:6: SettingWithCopyWarning: \n",
      "A value is trying to be set on a copy of a slice from a DataFrame.\n",
      "Try using .loc[row_indexer,col_indexer] = value instead\n",
      "\n",
      "See the caveats in the documentation: https://pandas.pydata.org/pandas-docs/stable/user_guide/indexing.html#returning-a-view-versus-a-copy\n",
      "  dataframe[column] = dataframe[column].astype(\"category\").cat.codes\n",
      "C:\\Users\\MiloJoronen\\AppData\\Local\\Temp\\ipykernel_14332\\3085832954.py:6: SettingWithCopyWarning: \n",
      "A value is trying to be set on a copy of a slice from a DataFrame.\n",
      "Try using .loc[row_indexer,col_indexer] = value instead\n",
      "\n",
      "See the caveats in the documentation: https://pandas.pydata.org/pandas-docs/stable/user_guide/indexing.html#returning-a-view-versus-a-copy\n",
      "  dataframe[column] = dataframe[column].astype(\"category\").cat.codes\n",
      "C:\\Users\\MiloJoronen\\AppData\\Local\\Temp\\ipykernel_14332\\3085832954.py:6: SettingWithCopyWarning: \n",
      "A value is trying to be set on a copy of a slice from a DataFrame.\n",
      "Try using .loc[row_indexer,col_indexer] = value instead\n",
      "\n",
      "See the caveats in the documentation: https://pandas.pydata.org/pandas-docs/stable/user_guide/indexing.html#returning-a-view-versus-a-copy\n",
      "  dataframe[column] = dataframe[column].astype(\"category\").cat.codes\n",
      "C:\\Users\\MiloJoronen\\AppData\\Local\\Temp\\ipykernel_14332\\3085832954.py:6: SettingWithCopyWarning: \n",
      "A value is trying to be set on a copy of a slice from a DataFrame.\n",
      "Try using .loc[row_indexer,col_indexer] = value instead\n",
      "\n",
      "See the caveats in the documentation: https://pandas.pydata.org/pandas-docs/stable/user_guide/indexing.html#returning-a-view-versus-a-copy\n",
      "  dataframe[column] = dataframe[column].astype(\"category\").cat.codes\n",
      "C:\\Users\\MiloJoronen\\AppData\\Local\\Temp\\ipykernel_14332\\3085832954.py:6: SettingWithCopyWarning: \n",
      "A value is trying to be set on a copy of a slice from a DataFrame.\n",
      "Try using .loc[row_indexer,col_indexer] = value instead\n",
      "\n",
      "See the caveats in the documentation: https://pandas.pydata.org/pandas-docs/stable/user_guide/indexing.html#returning-a-view-versus-a-copy\n",
      "  dataframe[column] = dataframe[column].astype(\"category\").cat.codes\n"
     ]
    }
   ],
   "source": [
    "data_na = convertCategoricalData(data_na_ori)"
   ]
  },
  {
   "cell_type": "code",
   "execution_count": 28,
   "id": "8595bb27",
   "metadata": {},
   "outputs": [],
   "source": [
    "features_na = data_na.drop(\"SuicideReferralFlagName\", axis = 1)\n",
    "classLabels_na = data_na[\"SuicideReferralFlagName\"]"
   ]
  },
  {
   "cell_type": "code",
   "execution_count": 29,
   "id": "4b55f5da",
   "metadata": {},
   "outputs": [],
   "source": [
    "#verify the indices\n",
    "assert all(features_na.index == classLabels_na.index)\n",
    "Features_topredict, ClassLabels_topredict = features_na.iloc[:len(data_na)], classLabels_na.iloc[:len(data_na)]"
   ]
  },
  {
   "cell_type": "code",
   "execution_count": 30,
   "id": "1428619f",
   "metadata": {},
   "outputs": [],
   "source": [
    "#Use the model to predict on test set\n",
    "predictions_na = classifier.predict(Features_topredict)"
   ]
  },
  {
   "cell_type": "code",
   "execution_count": 31,
   "id": "1632eb05",
   "metadata": {},
   "outputs": [
    {
     "name": "stdout",
     "output_type": "stream",
     "text": [
      "[1 1 1 ... 1 1 1]\n"
     ]
    }
   ],
   "source": [
    "print(predictions_na)"
   ]
  },
  {
   "cell_type": "code",
   "execution_count": 32,
   "id": "298a9bd8",
   "metadata": {},
   "outputs": [
    {
     "name": "stderr",
     "output_type": "stream",
     "text": [
      "C:\\Users\\MiloJoronen\\AppData\\Local\\Temp\\ipykernel_14332\\3690962440.py:4: SettingWithCopyWarning: \n",
      "A value is trying to be set on a copy of a slice from a DataFrame.\n",
      "Try using .loc[row_indexer,col_indexer] = value instead\n",
      "\n",
      "See the caveats in the documentation: https://pandas.pydata.org/pandas-docs/stable/user_guide/indexing.html#returning-a-view-versus-a-copy\n",
      "  data_na_ori['Predictions'] = predictions_na\n"
     ]
    }
   ],
   "source": [
    "data_na_ori = data.loc[data['SuicideReferralFlagName'].isna()]\n",
    "\n",
    "# Add a new column named 'Predictions' to the data_na DataFrame\n",
    "data_na_ori['Predictions'] = predictions_na"
   ]
  },
  {
   "cell_type": "code",
   "execution_count": 33,
   "id": "140d4be5",
   "metadata": {},
   "outputs": [],
   "source": [
    "data_na_ori.to_excel(r'C:\\Users\\MiloJoronen\\OneDrive - CESPHN\\Documents\\Testing\\LaTrobe\\suicide_data_prevention_predicted.xlsx', index=False)"
   ]
  }
 ],
 "metadata": {
  "kernelspec": {
   "display_name": "Python 3 (ipykernel)",
   "language": "python",
   "name": "python3"
  },
  "language_info": {
   "codemirror_mode": {
    "name": "ipython",
    "version": 3
   },
   "file_extension": ".py",
   "mimetype": "text/x-python",
   "name": "python",
   "nbconvert_exporter": "python",
   "pygments_lexer": "ipython3",
   "version": "3.9.13"
  }
 },
 "nbformat": 4,
 "nbformat_minor": 5
}
